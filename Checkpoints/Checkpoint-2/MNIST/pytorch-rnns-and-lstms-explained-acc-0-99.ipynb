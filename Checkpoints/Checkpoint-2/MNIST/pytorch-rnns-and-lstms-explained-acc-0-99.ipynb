{
 "cells": [
  {
   "cell_type": "code",
   "execution_count": 1,
   "metadata": {},
   "outputs": [
    {
     "name": "stdout",
     "output_type": "stream",
     "text": [
      "Device available now: cpu\n"
     ]
    }
   ],
   "source": [
    "# Imports\n",
    "import torch\n",
    "import torch.nn as nn\n",
    "import torch.nn.functional as F\n",
    "import torch.optim as optim\n",
    "import os\n",
    "import numpy as np\n",
    "\n",
    "import torchvision\n",
    "import torchvision.transforms as transforms\n",
    "\n",
    "import matplotlib.pyplot as plt\n",
    "%matplotlib inline\n",
    "import sklearn.metrics\n",
    "import seaborn as sns\n",
    "import random\n",
    "\n",
    "# To display youtube videos\n",
    "#from IPython.display import YouTubeVideo\n",
    "\n",
    "\n",
    "def set_seed(seed = 1234):\n",
    "    '''Sets the seed of the entire notebook so results are the same every time we run.\n",
    "    This is for REPRODUCIBILITY.'''\n",
    "    np.random.seed(seed)\n",
    "    random.seed(seed)\n",
    "    torch.manual_seed(seed)\n",
    "    torch.cuda.manual_seed(seed)\n",
    "    # When running on the CuDNN backend, two further options must be set\n",
    "    torch.backends.cudnn.deterministic = True\n",
    "    # Set a fixed value for the hash seed\n",
    "    os.environ['PYTHONHASHSEED'] = str(seed)\n",
    "    \n",
    "set_seed()\n",
    "\n",
    "device = torch.device('cuda' if torch.cuda.is_available() else 'cpu')\n",
    "print('Device available now:', device)"
   ]
  },
  {
   "cell_type": "code",
   "execution_count": 2,
   "metadata": {},
   "outputs": [
    {
     "name": "stdout",
     "output_type": "stream",
     "text": [
      "input time_0 shape: torch.Size([4, 4])\n",
      "input time_1 shape: torch.Size([4, 4])\n"
     ]
    }
   ],
   "source": [
    "# ==== STATICS ====\n",
    "n_inputs = 4\n",
    "n_neurons = 1\n",
    "# =================\n",
    "\n",
    "# RNN inputs\n",
    "input0 = torch.tensor([[0, 1, 2, 0], [3, 4, 5, 0], [6, 7, 8, 0], [9, 0, 1, 0]], dtype = torch.float)\n",
    "print('input time_0 shape:', input0.shape)\n",
    "\n",
    "input1 = torch.tensor([[9, 8, 7, 0], [3, 4, 5, 0], [6, 7, 8, 0], [9, 0, 1, 0]], dtype = torch.float)\n",
    "print('input time_1 shape:', input1.shape)"
   ]
  },
  {
   "cell_type": "code",
   "execution_count": 3,
   "metadata": {},
   "outputs": [],
   "source": [
    "# The Neural Network\n",
    "class RNNVanilla(nn.Module):\n",
    "    # __init__: the function where we create the architecture\n",
    "    def __init__(self, n_inputs, n_neurons):\n",
    "        super(RNNVanilla, self).__init__()\n",
    "        \n",
    "        # Weights are random at first\n",
    "        # U contains connection weights for the inputs of the current time step\n",
    "        self.U = torch.randn(n_inputs, n_neurons) # for 1 neuron: size = 4 rows and 1 column\n",
    "        \n",
    "        # W contains connection weights for the outputs of the previous time step\n",
    "        self.W = torch.randn(n_neurons, n_neurons) # for 1 neuron: size = 1 row and 1 column\n",
    "        \n",
    "        # The bias\n",
    "        self.b = torch.zeros(1, n_neurons) # for 1 neuron: size = 1 row and 1 column\n",
    "    \n",
    "    # forward: function where we apply the architecture to the input\n",
    "    def forward(self, input0, input1):\n",
    "        # Computes two outputs, one for each time step (two overall).\n",
    "        self.output0 = torch.tanh(torch.mm(input0, self.U) + self.b)\n",
    "        \n",
    "        self.output1 = torch.tanh(torch.mm(self.output0, self.W) + torch.mm(input1, self.U) + self.b)\n",
    "        \n",
    "        return self.output0, self.output1"
   ]
  },
  {
   "cell_type": "code",
   "execution_count": 4,
   "metadata": {
    "_cell_guid": "79c7e3d0-c299-4dcb-8224-4455121ee9b0",
    "_uuid": "d629ff2d2480ee46fbb7e2d37f6b5fab8052498a"
   },
   "outputs": [
    {
     "name": "stdout",
     "output_type": "stream",
     "text": [
      "output0: tensor([[-0.9247],\n",
      "        [-0.9973],\n",
      "        [-0.9999],\n",
      "        [-0.5345]]) \n",
      "\n",
      "output1: tensor([[-0.9937],\n",
      "        [-0.9910],\n",
      "        [-0.9997],\n",
      "        [-0.2628]])\n"
     ]
    }
   ],
   "source": [
    "# Creating the model\n",
    "rnn_1_neuron = RNNVanilla(n_inputs, n_neurons)\n",
    "\n",
    "# Checking the output\n",
    "output0, output1 = rnn_1_neuron(input0, input1)\n",
    "print('output0:', output0, '\\n')\n",
    "print('output1:', output1)"
   ]
  },
  {
   "cell_type": "code",
   "execution_count": 5,
   "metadata": {},
   "outputs": [
    {
     "name": "stdout",
     "output_type": "stream",
     "text": [
      "U: tensor([[ 0.0461],\n",
      "        [ 0.4024],\n",
      "        [-1.0115],\n",
      "        [ 0.2167]])\n",
      "W: tensor([[-0.6123]])\n",
      "bias: tensor([[0.]])\n"
     ]
    }
   ],
   "source": [
    "# Parameters\n",
    "print('U:', rnn_1_neuron.U)\n",
    "print('W:', rnn_1_neuron.W)\n",
    "print('bias:', rnn_1_neuron.b)"
   ]
  },
  {
   "cell_type": "code",
   "execution_count": 6,
   "metadata": {},
   "outputs": [
    {
     "name": "stdout",
     "output_type": "stream",
     "text": [
      "input time_0 shape: torch.Size([4, 3])\n",
      "input time_1 shape: torch.Size([4, 3])\n"
     ]
    }
   ],
   "source": [
    "# ==== STATICS ====\n",
    "n_inputs = 3\n",
    "n_neurons = 5\n",
    "# =================\n",
    "\n",
    "# RNN inputs\n",
    "input0 = torch.tensor([[0, 1, 2], [3, 4, 5], [6, 7, 8], [9, 0, 1]], dtype = torch.float)\n",
    "print('input time_0 shape:', input0.shape)\n",
    "\n",
    "input1 = torch.tensor([[9, 8, 7], [0, 0, 0], [6, 5, 4], [3, 2, 1]], dtype = torch.float)\n",
    "print('input time_1 shape:', input1.shape)"
   ]
  },
  {
   "cell_type": "code",
   "execution_count": 7,
   "metadata": {},
   "outputs": [
    {
     "name": "stdout",
     "output_type": "stream",
     "text": [
      "output0: tensor([[ 0.9538, -0.6534,  0.7879, -0.8832, -0.9953],\n",
      "        [ 1.0000, -0.9287,  0.9998, -1.0000, -0.8423],\n",
      "        [ 1.0000, -0.9870,  1.0000, -1.0000,  0.5144],\n",
      "        [ 1.0000,  0.9486,  1.0000, -0.9840,  1.0000]]) \n",
      "\n",
      "output1: tensor([[ 1.0000, -0.9795,  1.0000, -1.0000,  1.0000],\n",
      "        [-0.4268, -0.6269,  0.9398,  0.9575, -0.9623],\n",
      "        [ 1.0000, -0.9559,  1.0000, -1.0000,  0.9999],\n",
      "        [ 0.9991,  0.5718,  0.9485, -0.9160,  0.9999]])\n"
     ]
    }
   ],
   "source": [
    "# Creating the model\n",
    "rnn_n_neurons = RNNVanilla(n_inputs, n_neurons)\n",
    "\n",
    "# Checking the output\n",
    "output0, output1 = rnn_n_neurons(input0, input1)\n",
    "print('output0:', output0, '\\n')\n",
    "print('output1:', output1)"
   ]
  },
  {
   "cell_type": "code",
   "execution_count": 8,
   "metadata": {},
   "outputs": [
    {
     "name": "stdout",
     "output_type": "stream",
     "text": [
      "U: tensor([[ 0.5036,  0.2310,  0.6931, -0.2669,  2.1785],\n",
      "        [ 0.1021, -0.2590, -0.1549, -1.3706, -0.1319],\n",
      "        [ 0.8848, -0.2611,  0.6104, -0.0098, -1.4473]])\n",
      "W: tensor([[ 0.7667,  0.0190,  0.0220,  1.1532, -0.3393],\n",
      "        [ 0.1559,  0.8966, -0.2968, -0.6857,  0.9247],\n",
      "        [ 0.1825, -0.0737,  0.3147, -1.0369,  0.2100],\n",
      "        [ 0.6144, -0.0552, -0.3297, -1.7970,  0.8728],\n",
      "        [ 0.7670, -0.1138, -0.9428,  0.7540,  0.1365]])\n",
      "bias: tensor([[0., 0., 0., 0., 0.]])\n"
     ]
    }
   ],
   "source": [
    "# Parameters\n",
    "print('U:', rnn_n_neurons.U)\n",
    "print('W:', rnn_n_neurons.W)\n",
    "print('bias:', rnn_n_neurons.b)"
   ]
  },
  {
   "cell_type": "code",
   "execution_count": 9,
   "metadata": {
    "_kg_hide-output": true
   },
   "outputs": [
    {
     "name": "stdout",
     "output_type": "stream",
     "text": [
      "Downloading http://yann.lecun.com/exdb/mnist/train-images-idx3-ubyte.gz\n",
      "Downloading http://yann.lecun.com/exdb/mnist/train-images-idx3-ubyte.gz to data\\MNIST\\raw\\train-images-idx3-ubyte.gz\n"
     ]
    },
    {
     "data": {
      "application/vnd.jupyter.widget-view+json": {
       "model_id": "af2daea3d0f84cc7a27adfadcb852c05",
       "version_major": 2,
       "version_minor": 0
      },
      "text/plain": [
       "  0%|          | 0/9912422 [00:00<?, ?it/s]"
      ]
     },
     "metadata": {},
     "output_type": "display_data"
    },
    {
     "name": "stdout",
     "output_type": "stream",
     "text": [
      "Extracting data\\MNIST\\raw\\train-images-idx3-ubyte.gz to data\\MNIST\\raw\n",
      "\n",
      "Downloading http://yann.lecun.com/exdb/mnist/train-labels-idx1-ubyte.gz\n",
      "Downloading http://yann.lecun.com/exdb/mnist/train-labels-idx1-ubyte.gz to data\\MNIST\\raw\\train-labels-idx1-ubyte.gz\n"
     ]
    },
    {
     "data": {
      "application/vnd.jupyter.widget-view+json": {
       "model_id": "c706f18af9284caa89de13eed91fddd0",
       "version_major": 2,
       "version_minor": 0
      },
      "text/plain": [
       "  0%|          | 0/28881 [00:00<?, ?it/s]"
      ]
     },
     "metadata": {},
     "output_type": "display_data"
    },
    {
     "name": "stdout",
     "output_type": "stream",
     "text": [
      "Extracting data\\MNIST\\raw\\train-labels-idx1-ubyte.gz to data\\MNIST\\raw\n",
      "\n",
      "Downloading http://yann.lecun.com/exdb/mnist/t10k-images-idx3-ubyte.gz\n",
      "Downloading http://yann.lecun.com/exdb/mnist/t10k-images-idx3-ubyte.gz to data\\MNIST\\raw\\t10k-images-idx3-ubyte.gz\n"
     ]
    },
    {
     "data": {
      "application/vnd.jupyter.widget-view+json": {
       "model_id": "ac95b8cf91134729929e091d86554e23",
       "version_major": 2,
       "version_minor": 0
      },
      "text/plain": [
       "  0%|          | 0/1648877 [00:00<?, ?it/s]"
      ]
     },
     "metadata": {},
     "output_type": "display_data"
    },
    {
     "name": "stdout",
     "output_type": "stream",
     "text": [
      "Extracting data\\MNIST\\raw\\t10k-images-idx3-ubyte.gz to data\\MNIST\\raw\n",
      "\n",
      "Downloading http://yann.lecun.com/exdb/mnist/t10k-labels-idx1-ubyte.gz\n",
      "Downloading http://yann.lecun.com/exdb/mnist/t10k-labels-idx1-ubyte.gz to data\\MNIST\\raw\\t10k-labels-idx1-ubyte.gz\n"
     ]
    },
    {
     "data": {
      "application/vnd.jupyter.widget-view+json": {
       "model_id": "d666bd8695d34fb9af4f476f773c66c2",
       "version_major": 2,
       "version_minor": 0
      },
      "text/plain": [
       "  0%|          | 0/4542 [00:00<?, ?it/s]"
      ]
     },
     "metadata": {},
     "output_type": "display_data"
    },
    {
     "name": "stdout",
     "output_type": "stream",
     "text": [
      "Extracting data\\MNIST\\raw\\t10k-labels-idx1-ubyte.gz to data\\MNIST\\raw\n",
      "\n",
      "Processing...\n",
      "Done!\n"
     ]
    },
    {
     "name": "stderr",
     "output_type": "stream",
     "text": [
      "c:\\users\\hardik\\appdata\\local\\programs\\python\\python39\\lib\\site-packages\\torchvision\\datasets\\mnist.py:502: UserWarning: The given NumPy array is not writeable, and PyTorch does not support non-writeable tensors. This means you can write to the underlying (supposedly non-writeable) NumPy array using the tensor. You may want to copy the array to protect its data or make it writeable before converting it to a tensor. This type of warning will be suppressed for the rest of this program. (Triggered internally at  ..\\torch\\csrc\\utils\\tensor_numpy.cpp:143.)\n",
      "  return torch.from_numpy(parsed.astype(m[2], copy=False)).view(*s)\n"
     ]
    }
   ],
   "source": [
    "# Customized transform (transforms to tensor, here you can normalize, perform Data Augmentation etc.)\n",
    "my_transform = transforms.Compose([transforms.ToTensor()])\n",
    "\n",
    "# Download data\n",
    "mnist_train = torchvision.datasets.MNIST('data', train = True, download=True, transform=my_transform)\n",
    "mnist_test = torchvision.datasets.MNIST('data', train = False, download=True, transform=my_transform)"
   ]
  },
  {
   "cell_type": "code",
   "execution_count": 10,
   "metadata": {
    "_kg_hide-output": true
   },
   "outputs": [],
   "source": [
    "# The Neural Network\n",
    "class VanillaRNN_MNIST(nn.Module):\n",
    "    def __init__(self, batch_size, input_size, hidden_size, output_size):\n",
    "        super(VanillaRNN_MNIST, self).__init__()\n",
    "        self.batch_size, self.input_size, self.hidden_size, self.output_size = batch_size, input_size, hidden_size, output_size\n",
    "        \n",
    "        # RNN Layer\n",
    "        self.rnn = nn.RNN(input_size, hidden_size)\n",
    "        # Fully Connected Layer\n",
    "        self.layer = nn.Linear(hidden_size, self.output_size)\n",
    "    \n",
    "    def forward(self, images, prints=False):\n",
    "        if prints: print('Original Images Shape:', images.shape)\n",
    "        \n",
    "        images = images.permute(1, 0, 2)\n",
    "        if prints: print('Permuted Imaged Shape:', images.shape)\n",
    "        \n",
    "        # Initialize hidden state with zeros\n",
    "        hidden_state = torch.zeros(1, self.batch_size, self.hidden_size)\n",
    "        if prints: print('Initial hidden state Shape:', hidden_state.shape)\n",
    "        \n",
    "        # Creating RNN\n",
    "        hidden_outputs, hidden_state = self.rnn(images, hidden_state)\n",
    "        \n",
    "        # Log probabilities\n",
    "        out = self.layer(hidden_state)\n",
    "        \n",
    "        if prints:\n",
    "            print('----hidden_outputs shape:', hidden_outputs.shape, '\\n' +\n",
    "                  '----final hidden state:', hidden_state.shape, '\\n' +\n",
    "                  '----out shape:', out.shape)\n",
    "        \n",
    "        # Reshaped out\n",
    "        out = out.view(-1, self.output_size)\n",
    "        if prints: print('Out Final Shape:', out.shape)\n",
    "        \n",
    "        return out"
   ]
  },
  {
   "cell_type": "code",
   "execution_count": 11,
   "metadata": {},
   "outputs": [],
   "source": [
    "# ==== STATICS ====\n",
    "batch_size = 64        # how many images to be trained in one iteration\n",
    "input_size = 28        # image 28 by 28\n",
    "hidden_size = 150      # can be changed to any number: neurons\n",
    "output_size = 10       # 10 different digits\n",
    "# ================="
   ]
  },
  {
   "cell_type": "code",
   "execution_count": 12,
   "metadata": {},
   "outputs": [
    {
     "name": "stdout",
     "output_type": "stream",
     "text": [
      "original images shape: torch.Size([64, 1, 28, 28])\n",
      "changed images shape: torch.Size([64, 28, 28])\n",
      "labels shape: torch.Size([64]) \n",
      "\n",
      "Original Images Shape: torch.Size([64, 28, 28])\n",
      "Permuted Imaged Shape: torch.Size([28, 64, 28])\n",
      "Initial hidden state Shape: torch.Size([1, 64, 150])\n",
      "----hidden_outputs shape: torch.Size([28, 64, 150]) \n",
      "----final hidden state: torch.Size([1, 64, 150]) \n",
      "----out shape: torch.Size([1, 64, 10])\n",
      "Out Final Shape: torch.Size([64, 10])\n"
     ]
    }
   ],
   "source": [
    "# Create a train_loader to select a batch from it\n",
    "train_loader = torch.utils.data.DataLoader(mnist_train, batch_size=64)\n",
    "\n",
    "# Select one full batch from the data\n",
    "images_example, labels_example = next(iter(train_loader))\n",
    "print('original images shape:', images_example.shape)\n",
    "\n",
    "# Reshape\n",
    "images_example = images_example.view(-1, 28, 28)\n",
    "print('changed images shape:', images_example.shape)\n",
    "print('labels shape:', labels_example.shape, '\\n')\n",
    "\n",
    "# Creating the model\n",
    "model_example = VanillaRNN_MNIST(batch_size, input_size, hidden_size, output_size)\n",
    "\n",
    "\n",
    "out = model_example(images_example, prints=True)"
   ]
  },
  {
   "cell_type": "code",
   "execution_count": 13,
   "metadata": {},
   "outputs": [
    {
     "name": "stdout",
     "output_type": "stream",
     "text": [
      "Len parameters: 6 \n",
      "Parameters 0 - U: torch.Size([150, 28]) \n",
      "Parameters 1 - W: torch.Size([150, 150]) \n",
      "Parameters 2 - Bias: torch.Size([150]) \n",
      "Parameters 3 - Bias: torch.Size([150]) \n",
      "Parameters 4 - FNN weights: torch.Size([10, 150]) \n",
      "Parameters 5 - Predictions: torch.Size([10])\n"
     ]
    }
   ],
   "source": [
    "# Understand Model Parameters\n",
    "print('Len parameters:', len(list(model_example.parameters())), '\\n' +\n",
    "      'Parameters 0 - U:', list(model_example.parameters())[0].shape, '\\n' +\n",
    "      'Parameters 1 - W:', list(model_example.parameters())[1].shape, '\\n' +\n",
    "      'Parameters 2 - Bias:', list(model_example.parameters())[2].shape, '\\n' +\n",
    "      'Parameters 3 - Bias:', list(model_example.parameters())[3].shape, '\\n' +\n",
    "      'Parameters 4 - FNN weights:', list(model_example.parameters())[4].shape, '\\n' +\n",
    "      'Parameters 5 - Predictions:', list(model_example.parameters())[5].shape)"
   ]
  },
  {
   "cell_type": "code",
   "execution_count": 14,
   "metadata": {},
   "outputs": [],
   "source": [
    "def get_accuracy(out, actual_labels, batchSize):\n",
    "    '''Saves the Accuracy of the batch.\n",
    "    Takes in the log probabilities, actual label and the batchSize (to average the score).'''\n",
    "    predictions = out.max(dim=1)[1]\n",
    "    correct = (predictions == actual_labels).sum().item()\n",
    "    accuracy = correct/batch_size\n",
    "    \n",
    "    return accuracy"
   ]
  },
  {
   "cell_type": "code",
   "execution_count": 15,
   "metadata": {},
   "outputs": [],
   "source": [
    "def train_network(model, train_data, test_data, batchSize=64, num_epochs=1, learning_rate=0.001):\n",
    "    \n",
    "    '''Trains the model and computes the average accuracy for train and test data.'''\n",
    "    \n",
    "    print('Get data ready...')\n",
    "    # Create dataloader for training dataset - so we can train on multiple batches\n",
    "    # Shuffle after every epoch\n",
    "    train_loader = torch.utils.data.DataLoader(dataset=train_data, batch_size=batchSize, shuffle=True, drop_last=True)\n",
    "    test_loader = torch.utils.data.DataLoader(dataset=test_data, batch_size=batchSize, shuffle=True, drop_last=True)\n",
    "    \n",
    "    # Create criterion and optimizer\n",
    "    criterion = nn.CrossEntropyLoss()\n",
    "    optimizer = optim.Adam(model.parameters(), lr=learning_rate)\n",
    "    \n",
    "    \n",
    "    print('Training started...')\n",
    "    # Train the data multiple times\n",
    "    for epoch in range(num_epochs):\n",
    "        \n",
    "        # Save Train and Test Loss\n",
    "        train_loss = 0\n",
    "        train_acc = 0\n",
    "        \n",
    "        # Set model in training mode:\n",
    "        model.train()\n",
    "        \n",
    "        for k, (images, labels) in enumerate(train_loader):\n",
    "            \n",
    "            # Get rid of the channel\n",
    "            images = images.view(-1, 28, 28)\n",
    "            \n",
    "            # Create log probabilities\n",
    "            out = model(images)\n",
    "            # Clears the gradients from previous iteration\n",
    "            optimizer.zero_grad()\n",
    "            # Computes loss: how far is the prediction from the actual?\n",
    "            loss = criterion(out, labels)\n",
    "            # Computes gradients for neurons\n",
    "            loss.backward()\n",
    "            # Updates the weights\n",
    "            optimizer.step()\n",
    "            \n",
    "            # Save Loss & Accuracy after each iteration\n",
    "            train_loss += loss.item()\n",
    "            train_acc += get_accuracy(out, labels, batchSize)\n",
    "            \n",
    "        \n",
    "        # Print Average Train Loss & Accuracy after each epoch\n",
    "        print('TRAIN | Epoch: {}/{} | Loss: {:.2f} | Accuracy: {:.2f}'.format(epoch+1, num_epochs, train_loss/k, train_acc/k))\n",
    "            \n",
    "            \n",
    "    print('Testing Started...')\n",
    "    # Save Test Accuracy\n",
    "    test_acc = 0\n",
    "    # Evaluation mode\n",
    "    model.eval()\n",
    "    \n",
    "    for k, (images, labels) in enumerate(test_loader):\n",
    "        # Get rid of the channel\n",
    "        images = images.view(-1, 28, 28)\n",
    "        \n",
    "        # Create logit predictions\n",
    "        out = model(images)\n",
    "        # Add Accuracy of this batch\n",
    "        test_acc += get_accuracy(out, labels, batchSize)\n",
    "        \n",
    "    # Print Final Test Accuracy\n",
    "    print('TEST | Average Accuracy per {} Loaders: {:.5f}'.format(k, test_acc/k) )"
   ]
  },
  {
   "cell_type": "code",
   "execution_count": 16,
   "metadata": {},
   "outputs": [
    {
     "name": "stdout",
     "output_type": "stream",
     "text": [
      "Get data ready...\n",
      "Training started...\n",
      "TRAIN | Epoch: 1/10 | Loss: 0.85 | Accuracy: 0.71\n",
      "TRAIN | Epoch: 2/10 | Loss: 0.38 | Accuracy: 0.89\n",
      "TRAIN | Epoch: 3/10 | Loss: 0.29 | Accuracy: 0.92\n",
      "TRAIN | Epoch: 4/10 | Loss: 0.24 | Accuracy: 0.93\n",
      "TRAIN | Epoch: 5/10 | Loss: 0.20 | Accuracy: 0.95\n",
      "TRAIN | Epoch: 6/10 | Loss: 0.19 | Accuracy: 0.95\n",
      "TRAIN | Epoch: 7/10 | Loss: 0.16 | Accuracy: 0.96\n",
      "TRAIN | Epoch: 8/10 | Loss: 0.14 | Accuracy: 0.96\n",
      "TRAIN | Epoch: 9/10 | Loss: 0.13 | Accuracy: 0.96\n",
      "TRAIN | Epoch: 10/10 | Loss: 0.13 | Accuracy: 0.96\n",
      "Testing Started...\n",
      "TEST | Average Accuracy per 155 Loaders: 0.95706\n"
     ]
    }
   ],
   "source": [
    "# ==== STATICS ====\n",
    "batch_size=64\n",
    "input_size=28\n",
    "hidden_size=150\n",
    "output_size=10\n",
    "\n",
    "# Instantiate the model\n",
    "vanilla_rnn = VanillaRNN_MNIST(batch_size, input_size, hidden_size, output_size)\n",
    "\n",
    "# ==== TRAIN ====\n",
    "train_network(vanilla_rnn, mnist_train, mnist_test, num_epochs=10)"
   ]
  },
  {
   "cell_type": "code",
   "execution_count": 17,
   "metadata": {},
   "outputs": [],
   "source": [
    "class MultilayerRNN_MNIST(nn.Module):\n",
    "    def __init__(self, input_size, hidden_size, layer_size, output_size, relu=True):\n",
    "        super(MultilayerRNN_MNIST, self).__init__()\n",
    "        self.input_size, self.hidden_size, self.layer_size, self.output_size = input_size, hidden_size, layer_size, output_size\n",
    "        \n",
    "        # Create RNN\n",
    "        if relu:\n",
    "            self.rnn = nn.RNN(input_size, hidden_size, layer_size, batch_first=True, nonlinearity='relu')\n",
    "        else:\n",
    "            self.rnn = nn.RNN(input_size, hidden_size, layer_size, batch_first=True, nonlinearity='tanh')\n",
    "            \n",
    "        # Create FNN\n",
    "        self.fnn = nn.Linear(hidden_size, output_size)\n",
    "        \n",
    "    def forward(self, images, prints=False):\n",
    "        if prints: print('images shape:', images.shape)\n",
    "        \n",
    "        # Instantiate hidden_state at timestamp 0\n",
    "        hidden_state = torch.zeros(self.layer_size, images.size(0), self.hidden_size)\n",
    "        hidden_state = hidden_state.requires_grad_()\n",
    "        if prints: print('Hidden State shape:', hidden_state.shape)\n",
    "        \n",
    "        # Compute RNN\n",
    "        # .detach() is required to prevent vanishing gradient problem\n",
    "        output, last_hidden_state = self.rnn(images, hidden_state.detach())\n",
    "        if prints: print('RNN Output shape:', output.shape, '\\n' +\n",
    "                         'RNN last_hidden_state shape', last_hidden_state.shape)\n",
    "        \n",
    "        # Compute FNN\n",
    "        # We get rid of the second size\n",
    "        output = self.fnn(output[:, -1, :])\n",
    "        if prints: print('FNN Output shape:', output.shape)\n",
    "        \n",
    "        return output"
   ]
  },
  {
   "cell_type": "code",
   "execution_count": 18,
   "metadata": {},
   "outputs": [],
   "source": [
    "# ===== STATICS =====\n",
    "batch_size = 64\n",
    "input_size = 28\n",
    "hidden_size = 100      # neurons\n",
    "layer_size = 2         # layers\n",
    "output_size = 10\n",
    "# ==================="
   ]
  },
  {
   "cell_type": "code",
   "execution_count": 19,
   "metadata": {},
   "outputs": [
    {
     "name": "stdout",
     "output_type": "stream",
     "text": [
      "original images shape: torch.Size([64, 1, 28, 28])\n",
      "reshaped images shape: torch.Size([64, 28, 28]) \n",
      "\n",
      "MultilayerRNN_MNIST(\n",
      "  (rnn): RNN(28, 100, num_layers=2, batch_first=True)\n",
      "  (fnn): Linear(in_features=100, out_features=10, bias=True)\n",
      ")\n",
      "images shape: torch.Size([64, 28, 28])\n",
      "Hidden State shape: torch.Size([2, 64, 100])\n",
      "RNN Output shape: torch.Size([64, 28, 100]) \n",
      "RNN last_hidden_state shape torch.Size([2, 64, 100])\n",
      "FNN Output shape: torch.Size([64, 10])\n"
     ]
    }
   ],
   "source": [
    "train_loader_example = torch.utils.data.DataLoader(mnist_train, batch_size=64)\n",
    "\n",
    "# Taking a single batch of the images\n",
    "images, labels = next(iter(train_loader_example))\n",
    "print('original images shape:', images.shape)\n",
    "\n",
    "# Remove channel from shape\n",
    "images = images.reshape(-1, 28, 28)\n",
    "print('reshaped images shape:', images.shape, '\\n')\n",
    "\n",
    "# Create model instance\n",
    "multilayer_rnn_example = MultilayerRNN_MNIST(input_size, hidden_size, layer_size, output_size, relu=False)\n",
    "print(multilayer_rnn_example)\n",
    "\n",
    "\n",
    "# Making log predictions:\n",
    "out = multilayer_rnn_example(images, prints=True)"
   ]
  },
  {
   "cell_type": "code",
   "execution_count": 20,
   "metadata": {},
   "outputs": [
    {
     "name": "stdout",
     "output_type": "stream",
     "text": [
      "Get data ready...\n",
      "Training started...\n",
      "TRAIN | Epoch: 1/10 | Loss: 0.68 | Accuracy: 0.78\n",
      "TRAIN | Epoch: 2/10 | Loss: 0.26 | Accuracy: 0.92\n",
      "TRAIN | Epoch: 3/10 | Loss: 0.20 | Accuracy: 0.94\n",
      "TRAIN | Epoch: 4/10 | Loss: 0.17 | Accuracy: 0.95\n",
      "TRAIN | Epoch: 5/10 | Loss: 0.15 | Accuracy: 0.96\n",
      "TRAIN | Epoch: 6/10 | Loss: 0.14 | Accuracy: 0.96\n",
      "TRAIN | Epoch: 7/10 | Loss: 0.13 | Accuracy: 0.96\n",
      "TRAIN | Epoch: 8/10 | Loss: 0.13 | Accuracy: 0.96\n",
      "TRAIN | Epoch: 9/10 | Loss: 0.12 | Accuracy: 0.97\n",
      "TRAIN | Epoch: 10/10 | Loss: 0.12 | Accuracy: 0.97\n",
      "Testing Started...\n",
      "TEST | Average Accuracy per 155 Loaders: 0.96956\n"
     ]
    }
   ],
   "source": [
    "# ==== STATICS ====\n",
    "batch_size = 64\n",
    "input_size = 28\n",
    "hidden_size = 100  \n",
    "layer_size = 2         \n",
    "output_size = 10\n",
    "\n",
    "# Instantiate the model\n",
    "# We'll use TANH as our activation function\n",
    "multilayer_rnn = MultilayerRNN_MNIST(input_size, hidden_size, layer_size, output_size, relu=False)\n",
    "\n",
    "# ==== TRAIN ====\n",
    "train_network(multilayer_rnn, mnist_train, mnist_test, num_epochs=10)"
   ]
  },
  {
   "cell_type": "code",
   "execution_count": 21,
   "metadata": {},
   "outputs": [],
   "source": [
    "class LSTM_MNIST(nn.Module):\n",
    "    def __init__(self, input_size, hidden_size, layer_size, output_size, bidirectional=True):\n",
    "        super(LSTM_MNIST, self).__init__()\n",
    "        \n",
    "        self.input_size, self.hidden_size, self.layer_size, self.output_size = input_size, hidden_size, layer_size, output_size\n",
    "        self.bidirectional = bidirectional\n",
    "        \n",
    "        # Step1: the LSTM model\n",
    "        self.lstm = nn.LSTM(input_size, hidden_size, layer_size, batch_first=True, bidirectional=bidirectional)\n",
    "        \n",
    "        # Step2: the FNN\n",
    "        if bidirectional: # we'll have 2 more layers\n",
    "            self.layer = nn.Linear(hidden_size*2, output_size)\n",
    "        else:\n",
    "            self.layer = nn.Linear(hidden_size, output_size)\n",
    "            \n",
    "            \n",
    "    def forward(self, images, prints=False):\n",
    "        if prints: print('images shape:', images.shape)\n",
    "        \n",
    "        # Set initial states\n",
    "        if self.bidirectional:\n",
    "            # Hidden state:\n",
    "            hidden_state = torch.zeros(self.layer_size*2, images.size(0), self.hidden_size)\n",
    "            # Cell state:\n",
    "            cell_state = torch.zeros(self.layer_size*2, images.size(0), self.hidden_size)\n",
    "        else:\n",
    "            # Hidden state:\n",
    "            hidden_state = torch.zeros(self.layer_size, images.size(0), self.hidden_size)\n",
    "            # Cell state:\n",
    "            cell_state = torch.zeros(self.layer_size, images.size(0), self.hidden_size)\n",
    "        if prints: print('hidden_state t0 shape:', hidden_state.shape, '\\n' +\n",
    "                         'cell_state t0 shape:', cell_state.shape)\n",
    "        \n",
    "        # LSTM:\n",
    "        output, (last_hidden_state, last_cell_state) = self.lstm(images, (hidden_state, cell_state))\n",
    "        if prints: print('LSTM: output shape:', output.shape, '\\n' +\n",
    "                         'LSTM: last_hidden_state shape:', last_hidden_state.shape, '\\n' +\n",
    "                         'LSTM: last_cell_state shape:', last_cell_state.shape)\n",
    "        # Reshape\n",
    "        output = output[:, -1, :]\n",
    "        if prints: print('output reshape:', output.shape)\n",
    "        \n",
    "        # FNN:\n",
    "        output = self.layer(output)\n",
    "        if prints: print('FNN: Final output shape:', output.shape)\n",
    "        \n",
    "        return output"
   ]
  },
  {
   "cell_type": "code",
   "execution_count": 22,
   "metadata": {},
   "outputs": [],
   "source": [
    "# ====== STATICS ======\n",
    "batch_size = 64\n",
    "input_size = 28       # width of image\n",
    "hidden_size = 128     # number of hidden neurons\n",
    "layer_size = 2        # number of layers\n",
    "output_size = 10      # possible choices\n",
    "# ====================="
   ]
  },
  {
   "cell_type": "code",
   "execution_count": 23,
   "metadata": {
    "scrolled": true
   },
   "outputs": [
    {
     "name": "stdout",
     "output_type": "stream",
     "text": [
      "original images shape: torch.Size([64, 1, 28, 28])\n",
      "reshaped images shape: torch.Size([64, 28, 28]) \n",
      "\n",
      "lstm_example: LSTM_MNIST(\n",
      "  (lstm): LSTM(28, 128, num_layers=2, batch_first=True, bidirectional=True)\n",
      "  (layer): Linear(in_features=256, out_features=10, bias=True)\n",
      ") \n",
      "\n",
      "images shape: torch.Size([64, 28, 28])\n",
      "hidden_state t0 shape: torch.Size([4, 64, 128]) \n",
      "cell_state t0 shape: torch.Size([4, 64, 128])\n",
      "LSTM: output shape: torch.Size([64, 28, 256]) \n",
      "LSTM: last_hidden_state shape: torch.Size([4, 64, 128]) \n",
      "LSTM: last_cell_state shape: torch.Size([4, 64, 128])\n",
      "output reshape: torch.Size([64, 256])\n",
      "FNN: Final output shape: torch.Size([64, 10])\n"
     ]
    }
   ],
   "source": [
    "# Taking a single batch of the images\n",
    "images, labels = next(iter(train_loader_example))\n",
    "print('original images shape:', images.shape)\n",
    "# Remove channel from shape\n",
    "images = images.reshape(-1, 28, 28)\n",
    "print('reshaped images shape:', images.shape, '\\n')\n",
    "\n",
    "# Creating the Model\n",
    "lstm_example = LSTM_MNIST(input_size, hidden_size, layer_size, output_size)\n",
    "print('lstm_example:', lstm_example, '\\n')\n",
    "\n",
    "# Making log predictions:\n",
    "out = lstm_example(images, prints=True)"
   ]
  },
  {
   "cell_type": "code",
   "execution_count": 25,
   "metadata": {},
   "outputs": [
    {
     "name": "stdout",
     "output_type": "stream",
     "text": [
      "Get data ready...\n",
      "Training started...\n",
      "TRAIN | Epoch: 1/10 | Loss: 0.47 | Accuracy: 0.84\n",
      "TRAIN | Epoch: 2/10 | Loss: 0.12 | Accuracy: 0.97\n",
      "TRAIN | Epoch: 3/10 | Loss: 0.08 | Accuracy: 0.98\n",
      "TRAIN | Epoch: 4/10 | Loss: 0.06 | Accuracy: 0.98\n",
      "TRAIN | Epoch: 5/10 | Loss: 0.05 | Accuracy: 0.99\n",
      "TRAIN | Epoch: 6/10 | Loss: 0.04 | Accuracy: 0.99\n",
      "TRAIN | Epoch: 7/10 | Loss: 0.04 | Accuracy: 0.99\n",
      "TRAIN | Epoch: 8/10 | Loss: 0.03 | Accuracy: 0.99\n",
      "TRAIN | Epoch: 9/10 | Loss: 0.03 | Accuracy: 0.99\n",
      "TRAIN | Epoch: 10/10 | Loss: 0.02 | Accuracy: 0.99\n",
      "Testing Started...\n",
      "TEST | Average Accuracy per 155 Loaders: 0.99667\n"
     ]
    }
   ],
   "source": [
    "# ==== STATICS ====\n",
    "batch_size = 64\n",
    "input_size = 28\n",
    "hidden_size = 100  \n",
    "layer_size = 2         \n",
    "output_size = 10\n",
    "\n",
    "# Instantiate the model\n",
    "# We'll use TANH as our activation function\n",
    "lstm_rnn = LSTM_MNIST(input_size, hidden_size, layer_size, output_size)\n",
    "\n",
    "# ==== TRAIN ====\n",
    "train_network(lstm_rnn, mnist_train, mnist_test, num_epochs=10)"
   ]
  },
  {
   "cell_type": "code",
   "execution_count": 26,
   "metadata": {},
   "outputs": [],
   "source": [
    "def get_confusion_matrix(model, test_data):\n",
    "    # First we make sure we disable Gradient Computing\n",
    "    torch.no_grad()\n",
    "    \n",
    "    # Model in Evaluation Mode\n",
    "    model.eval()\n",
    "    \n",
    "    preds, actuals = [], []\n",
    "\n",
    "    for image, label in mnist_test:\n",
    "        image = image.view(-1, 28, 28)\n",
    "        out = model(image)\n",
    "\n",
    "        prediction = torch.max(out, dim=1)[1].item()\n",
    "        preds.append(prediction)\n",
    "        actuals.append(label)\n",
    "    \n",
    "    return sklearn.metrics.confusion_matrix(preds, actuals)"
   ]
  },
  {
   "cell_type": "code",
   "execution_count": null,
   "metadata": {},
   "outputs": [],
   "source": [
    "plt.figure(figsize=(16, 5))\n",
    "sns.heatmap(get_confusion_matrix(lstm_rnn, mnist_test), cmap='icefire', annot=True, linewidths=0.1,\n",
    "           fmt = ',')\n",
    "plt.title('Confusion Matrix: LSTM', fontsize=15);"
   ]
  }
 ],
 "metadata": {
  "kernelspec": {
   "display_name": "Python 3",
   "language": "python",
   "name": "python3"
  },
  "language_info": {
   "codemirror_mode": {
    "name": "ipython",
    "version": 3
   },
   "file_extension": ".py",
   "mimetype": "text/x-python",
   "name": "python",
   "nbconvert_exporter": "python",
   "pygments_lexer": "ipython3",
   "version": "3.9.2"
  }
 },
 "nbformat": 4,
 "nbformat_minor": 4
}
