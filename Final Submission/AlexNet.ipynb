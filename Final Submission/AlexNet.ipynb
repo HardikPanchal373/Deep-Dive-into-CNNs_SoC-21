{
 "cells": [
  {
   "cell_type": "code",
   "execution_count": null,
   "id": "bronze-affair",
   "metadata": {
    "id": "bronze-affair"
   },
   "outputs": [],
   "source": [
    "import os\n",
    "import torch\n",
    "import torchvision\n",
    "import numpy as np\n",
    "import pandas as pd\n",
    "import torch.nn as nn\n",
    "import torch.optim as optim\n",
    "import matplotlib.pyplot as plt\n",
    "import torch.nn.functional as F\n",
    "from PIL import Image\n",
    "from torchvision import transforms, datasets\n",
    "from torch.utils.data import Dataset, DataLoader"
   ]
  },
  {
   "cell_type": "code",
   "execution_count": null,
   "id": "8WkeIl18-vtd",
   "metadata": {
    "colab": {
     "base_uri": "https://localhost:8080/"
    },
    "id": "8WkeIl18-vtd",
    "outputId": "97ed0472-178d-46c0-d7e5-d8a45d872a71"
   },
   "outputs": [],
   "source": [
    "# training batches of our network\n",
    "EPOCHS = 10\n",
    "# size of each batch\n",
    "BATCH_SIZE = 512\n",
    "\n",
    "DEVICE = (\"cuda\" if torch.cuda.is_available() else \"cpu\")\n",
    "class_names = ['T-shirt/top', 'Trouser', 'Pullover', 'Dress', 'Coat',\n",
    "               'Sandal', 'Shirt', 'Sneaker', 'Bag', 'Ankle boot']\n",
    "\n",
    "print(torch.__version__)\n",
    "print(DEVICE)"
   ]
  },
  {
   "cell_type": "code",
   "execution_count": null,
   "id": "m6kf8Rjq-wQD",
   "metadata": {
    "colab": {
     "base_uri": "https://localhost:8080/",
     "height": 450
    },
    "id": "m6kf8Rjq-wQD",
    "outputId": "65fe2b80-462c-4908-b55a-ee3f684f5ba1"
   },
   "outputs": [],
   "source": [
    "train_csv = pd.read_csv('fashion-mnist_train.csv')\n",
    "test_csv = pd.read_csv('fashion-mnist_test.csv')\n",
    "\n",
    "\n",
    "print(train_csv.shape)\n",
    "print(test_csv.shape)"
   ]
  },
  {
   "cell_type": "code",
   "execution_count": null,
   "id": "r_l8Qc2f-wqv",
   "metadata": {
    "id": "r_l8Qc2f-wqv"
   },
   "outputs": [],
   "source": [
    "print(train_csv.info())\n",
    "print(train_csv.head())"
   ]
  },
  {
   "cell_type": "code",
   "execution_count": null,
   "id": "vYt8oNkZ-xJC",
   "metadata": {
    "id": "vYt8oNkZ-xJC"
   },
   "outputs": [],
   "source": [
    "class FashionDataset(Dataset):\n",
    "    def __init__(self, data, transform=None):        \n",
    "        self.fashion_MNIST = list(data.values)\n",
    "        self.transform = transform\n",
    "        \n",
    "        label, image = [], []\n",
    "        \n",
    "        for i in self.fashion_MNIST:\n",
    "            label.append(i[0])\n",
    "            image.append(i[1:])\n",
    "        self.labels = np.asarray(label)\n",
    "        self.images = np.asarray(image).reshape(-1, 28, 28).astype('float32')\n",
    "        \n",
    "    def __len__(self):\n",
    "        return len(self.images)\n",
    "    \n",
    "    def __getitem__(self, idx):\n",
    "        label = self.labels[idx]\n",
    "        image = self.images[idx]      \n",
    "        \n",
    "        if self.transform is not None:\n",
    "            # transfrom the numpy array to PIL image before the transform function\n",
    "            pil_image = Image.fromarray(np.uint8(image)) \n",
    "            image = self.transform(pil_image)\n",
    "            \n",
    "        return image, label"
   ]
  },
  {
   "cell_type": "code",
   "execution_count": null,
   "id": "8dgh6CnY_Zex",
   "metadata": {
    "id": "8dgh6CnY_Zex"
   },
   "outputs": [],
   "source": [
    "AlexTransform = transforms.Compose([\n",
    "    transforms.Resize((227, 227)),\n",
    "    transforms.ToTensor(),\n",
    "    transforms.Normalize((0.1307,), (0.3081,))\n",
    "])\n"
   ]
  },
  {
   "cell_type": "code",
   "execution_count": null,
   "id": "dmMX7j1Y_Z6r",
   "metadata": {
    "id": "dmMX7j1Y_Z6r"
   },
   "outputs": [],
   "source": [
    "train_loader = DataLoader(\n",
    "    FashionDataset(train_csv, transform=AlexTransform), \n",
    "    batch_size=BATCH_SIZE, shuffle=True)\n",
    "\n",
    "test_loader = DataLoader(\n",
    "    FashionDataset(test_csv, transform=AlexTransform), \n",
    "    batch_size=BATCH_SIZE, shuffle=True)"
   ]
  },
  {
   "cell_type": "code",
   "execution_count": null,
   "id": "B3isWKD5_aVy",
   "metadata": {
    "id": "B3isWKD5_aVy"
   },
   "outputs": [],
   "source": [
    "# helper function to show an image\n",
    "def matplotlib_imshow(img):\n",
    "    img = img.mean(dim=0)\n",
    "    img = img / 2 + 0.5     # unnormalize\n",
    "    npimg = img.numpy()\n",
    "    plt.imshow(npimg, cmap=\"Greys\")\n",
    "\n",
    "# get some random training images\n",
    "dataiter = iter(train_loader)\n",
    "images, labels = dataiter.next()\n",
    "\n",
    "# creat grid of images\n",
    "img_grid = torchvision.utils.make_grid(images[0])\n",
    "\n",
    "# show images & labels\n",
    "matplotlib_imshow(img_grid)\n",
    "print(class_names[labels[0]])"
   ]
  },
  {
   "cell_type": "code",
   "execution_count": null,
   "id": "4AN5wQUw_ayG",
   "metadata": {
    "id": "4AN5wQUw_ayG"
   },
   "outputs": [],
   "source": [
    "class fasion_mnist_alexnet(nn.Module):  \n",
    "    def __init__(self):\n",
    "        super().__init__()\n",
    "        self.conv1 = nn.Sequential(\n",
    "            nn.Conv2d(in_channels=1, out_channels=96, kernel_size=11, stride=4, padding=0),\n",
    "            nn.ReLU(),\n",
    "            nn.MaxPool2d(kernel_size=3, stride=2)\n",
    "        )\n",
    "        self.conv2 = nn.Sequential(\n",
    "            nn.Conv2d(96, 256, 5, 1, 2),\n",
    "            nn.ReLU(),\n",
    "            nn.MaxPool2d(3, 2)\n",
    "        )\n",
    "        self.conv3 = nn.Sequential(\n",
    "            nn.Conv2d(256, 384, 3, 1, 1),\n",
    "            nn.ReLU()\n",
    "        )\n",
    "        self.conv4 = nn.Sequential(\n",
    "            nn.Conv2d(384, 384, 3, 1, 1),\n",
    "            nn.ReLU()\n",
    "        )\n",
    "        self.conv5 = nn.Sequential(\n",
    "            nn.Conv2d(384, 256, 3, 1, 1),\n",
    "            nn.ReLU(),\n",
    "            nn.MaxPool2d(3, 2)\n",
    "        )\n",
    "\n",
    "        self.fc1 = nn.Linear(256 * 6 * 6, 4096)\n",
    "        self.fc2 = nn.Linear(4096, 4096)\n",
    "        self.fc3 = nn.Linear(4096, 10)\n",
    "\n",
    "    def forward(self, x):\n",
    "        out = self.conv1(x)\n",
    "        out = self.conv2(out)\n",
    "        out = self.conv3(out)\n",
    "        out = self.conv4(out)\n",
    "        out = self.conv5(out)\n",
    "        out = out.view(out.size(0), -1)\n",
    "\n",
    "        out = F.relu(self.fc1(out))  # 256*6*6 -> 4096\n",
    "        out = F.dropout(out, 0.5)\n",
    "        out = F.relu(self.fc2(out))\n",
    "        out = F.dropout(out, 0.5)\n",
    "        out = self.fc3(out)\n",
    "        out = F.log_softmax(out, dim=1)\n",
    "\n",
    "        return out"
   ]
  },
  {
   "cell_type": "code",
   "execution_count": null,
   "id": "IOXMwk6B_bK4",
   "metadata": {
    "id": "IOXMwk6B_bK4"
   },
   "outputs": [],
   "source": [
    "model = fasion_mnist_alexnet().to(DEVICE)\n",
    "criterion = F.nll_loss\n",
    "optimizer = optim.Adam(model.parameters())"
   ]
  },
  {
   "cell_type": "code",
   "execution_count": null,
   "id": "rP5kKnsB_bmg",
   "metadata": {
    "id": "rP5kKnsB_bmg"
   },
   "outputs": [],
   "source": [
    "def train(model, device, train_loader, optimer, epoch):\n",
    "    model.train()\n",
    "    for batch_idx, (data, target) in enumerate(train_loader):\n",
    "        target = target.type(torch.LongTensor)\n",
    "        data, target = data.to(device), target.to(device)\n",
    "        optimizer.zero_grad()\n",
    "        output = model(data)\n",
    "        loss = criterion(output, target)\n",
    "        loss.backward()\n",
    "        optimizer.step()\n",
    "        if (batch_idx + 1) % 30 == 0:\n",
    "            print(\"Train Epoch:{} [{}/{} ({:.0f}%)]\\tLoss: {:.6f}\".format(\n",
    "                epoch, batch_idx * len(data), len(train_loader.dataset),\n",
    "                100. * batch_idx / len(train_loader), loss.item()))"
   ]
  },
  {
   "cell_type": "code",
   "execution_count": null,
   "id": "UGSN-iQc_b-Q",
   "metadata": {
    "id": "UGSN-iQc_b-Q"
   },
   "outputs": [],
   "source": [
    "def test(model, device, test_loader):\n",
    "    model.eval()\n",
    "    test_loss = 0\n",
    "    correct = 0\n",
    "    with torch.no_grad():\n",
    "        for data, target in test_loader:\n",
    "            data, target = data.to(device), target.to(device)\n",
    "            output = model(data)\n",
    "            test_loss += criterion(output, target, reduction='sum').item()\n",
    "            pred = output.max(1, keepdim=True)[1]\n",
    "            correct += pred.eq(target.view_as(pred)).sum().item()\n",
    "\n",
    "        test_loss /= len(test_loader.dataset)\n",
    "        print(\"\\nTest set: Average loss: {:.4f}, Accuracy: {}/{} ({:.0f}%)\\n\".format(\n",
    "            test_loss, correct, len(test_loader.dataset), 100. * correct / len(test_loader.dataset)))\n",
    "        print('='*50)"
   ]
  },
  {
   "cell_type": "code",
   "execution_count": null,
   "id": "_pgeHmAC-xwM",
   "metadata": {
    "id": "_pgeHmAC-xwM"
   },
   "outputs": [],
   "source": [
    "for epoch in range(1, EPOCHS+1):\n",
    "    train(model, DEVICE, train_loader, optimizer, epoch)\n",
    "    test(model, DEVICE, test_loader)"
   ]
  },
  {
   "cell_type": "code",
   "execution_count": null,
   "id": "collaborative-retention",
   "metadata": {},
   "outputs": [],
   "source": []
  }
 ],
 "metadata": {
  "colab": {
   "collapsed_sections": [],
   "name": "AlexNet.ipynb",
   "provenance": []
  },
  "kernelspec": {
   "display_name": "Python 3",
   "language": "python",
   "name": "python3"
  },
  "language_info": {
   "codemirror_mode": {
    "name": "ipython",
    "version": 3
   },
   "file_extension": ".py",
   "mimetype": "text/x-python",
   "name": "python",
   "nbconvert_exporter": "python",
   "pygments_lexer": "ipython3",
   "version": "3.9.2"
  }
 },
 "nbformat": 4,
 "nbformat_minor": 5
}
